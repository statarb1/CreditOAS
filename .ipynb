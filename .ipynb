{
 "cells": [
  {
   "cell_type": "markdown",
   "metadata": {},
   "source": [
    "**Predicting Credit Returns – An Asset Allocator’s Perspective**"
   ]
  },
  {
   "cell_type": "markdown",
   "metadata": {},
   "source": [
    "Timing entry into different asset classes is the fundamental problem in tactical asset allocation. Investment grade and high yield bonds form a significant asset class with a particularly strong value anchor which makes timing the asset class a fruitful exercise. \n",
    "\n",
    "This article explores using the option adjusted spread (OAS) on credit indices as a timing signal into the asset class and as a predictor for future returns for both IG and HY indices.\n",
    "\n",
    "The option adjusted spread (OAS) for a fixed income security measures the spread (or yield difference) between the fixed income security and the risk free yield, adjusted for any embedded options. Simply put – the OAS is the yield of the fixed income security above that of the equivalent risk free government bond, adjusted for any embedded optionality. This is the compensation that the bond holder gets for providing capital to the ‘credit-risky’ bond issuer compared to providing capital to the ‘risk-free’ government bond."
   ]
  },
  {
   "cell_type": "code",
   "execution_count": null,
   "metadata": {},
   "outputs": [],
   "source": [
    "import sys\n",
    "import pandas as pd\n",
    "import numpy as np\n",
    "import matplotlib.pyplot as plt\n",
    "from datetime import datetime\n",
    "import seaborn as sns\n",
    "import os\n",
    "from scipy.stats.stats import pearsonr\n",
    "from zscore import zscore\n"
   ]
  },
  {
   "cell_type": "markdown",
   "metadata": {},
   "source": [
    "**Reading in data**\n",
    "\n",
    "Data is read wrangled and re-arranged in the following cells\n"
   ]
  },
  {
   "cell_type": "code",
   "execution_count": 7,
   "metadata": {},
   "outputs": [
    {
     "name": "stdout",
     "output_type": "stream",
     "text": [
      "<class 'pandas.core.frame.DataFrame'>\n",
      "DatetimeIndex: 1067 entries, 2000-01-07 to 2020-06-12\n",
      "Data columns (total 10 columns):\n",
      "IGWDAll          1067 non-null float64\n",
      "IGUSDAll         1067 non-null float64\n",
      "IGGBPAll         1067 non-null float64\n",
      "IGEURAll         1067 non-null float64\n",
      "IGShortUSDAll    1063 non-null float64\n",
      "IGShortGBPAll    733 non-null float64\n",
      "IGShortEURAll    1063 non-null float64\n",
      "HYWDAll          1067 non-null float64\n",
      "HYUSDAll         1067 non-null float64\n",
      "HYEURAll         1067 non-null float64\n",
      "dtypes: float64(10)\n",
      "memory usage: 91.7 KB\n",
      "<class 'pandas.core.frame.DataFrame'>\n",
      "DatetimeIndex: 1067 entries, 2000-01-07 to 2020-06-12\n",
      "Data columns (total 40 columns):\n",
      "IGWDAAA          1067 non-null float64\n",
      "IGWDAA           1067 non-null float64\n",
      "IGWDA            1067 non-null float64\n",
      "IGWDBBB          1067 non-null float64\n",
      "IGUSDAAA         1067 non-null float64\n",
      "IGUSDAA          1067 non-null float64\n",
      "IGUSDA           1067 non-null float64\n",
      "IGUSDBBB         1067 non-null float64\n",
      "IGGBPAAA         733 non-null float64\n",
      "IGGBPAA          733 non-null float64\n",
      "IGGBPA           733 non-null float64\n",
      "IGGBPBBB         733 non-null float64\n",
      "IGEURAAA         1067 non-null float64\n",
      "IGEURAA          1067 non-null float64\n",
      "IGEURA           1067 non-null float64\n",
      "IGEURBBB         1067 non-null float64\n",
      "IGShortUSDAAA    1067 non-null float64\n",
      "IGShortUSDAA     1067 non-null float64\n",
      "IGShortUSDA      1067 non-null float64\n",
      "IGShortUSDBBB    1067 non-null float64\n",
      "IGShortGBPAAA    733 non-null float64\n",
      "IGShortGBPAA     733 non-null float64\n",
      "IGShortGBPA      733 non-null float64\n",
      "IGShortGBPBBB    733 non-null float64\n",
      "IGShortEURAAA    1067 non-null float64\n",
      "IGShortEURAA     1067 non-null float64\n",
      "IGShortEURA      1067 non-null float64\n",
      "IGShortEURBBB    1067 non-null float64\n",
      "HYWDBB           1067 non-null float64\n",
      "HYWDB            1067 non-null float64\n",
      "HYWDCCC_C        1067 non-null float64\n",
      "HYUSDBB          1067 non-null float64\n",
      "HYUSDB           1067 non-null float64\n",
      "HYUSDCCC_C       1067 non-null float64\n",
      "HYGBPBB          1067 non-null float64\n",
      "HYGBPB           1067 non-null float64\n",
      "HYGBPCCC_C       1067 non-null float64\n",
      "HYEURBB          1067 non-null float64\n",
      "HYEURB           1067 non-null float64\n",
      "HYEURCCC_C       1067 non-null float64\n",
      "dtypes: float64(40)\n",
      "memory usage: 341.8 KB\n",
      "<class 'pandas.core.frame.DataFrame'>\n",
      "DatetimeIndex: 1067 entries, 2000-01-07 to 2020-06-12\n",
      "Data columns (total 10 columns):\n",
      "IGWDAll          1067 non-null float64\n",
      "IGUSDAll         1067 non-null float64\n",
      "IGGBPAll         1067 non-null float64\n",
      "IGEURAll         1067 non-null float64\n",
      "IGShortUSDAll    1067 non-null float64\n",
      "IGShortGBPAll    733 non-null float64\n",
      "IGShortEURAll    1067 non-null float64\n",
      "HYWDAll          1067 non-null float64\n",
      "HYUSDAll         1067 non-null float64\n",
      "HYEURAll         1067 non-null float64\n",
      "dtypes: float64(10)\n",
      "memory usage: 91.7 KB\n",
      "<class 'pandas.core.frame.DataFrame'>\n",
      "DatetimeIndex: 1067 entries, 2000-01-07 to 2020-06-12\n",
      "Data columns (total 40 columns):\n",
      "IGWDAAA          1067 non-null float64\n",
      "IGWDAA           1067 non-null float64\n",
      "IGWDA            1067 non-null float64\n",
      "IGWDBBB          1067 non-null float64\n",
      "IGUSDAAA         1067 non-null float64\n",
      "IGUSDAA          1067 non-null float64\n",
      "IGUSDA           1067 non-null float64\n",
      "IGUSDBBB         1067 non-null float64\n",
      "IGGBPAAA         1067 non-null float64\n",
      "IGGBPAA          1067 non-null float64\n",
      "IGGBPA           1067 non-null float64\n",
      "IGGBPBBB         1067 non-null float64\n",
      "IGEURAAA         1067 non-null float64\n",
      "IGEURAA          1067 non-null float64\n",
      "IGEURA           1067 non-null float64\n",
      "IGEURBBB         1067 non-null float64\n",
      "IGShortUSDAAA    1067 non-null float64\n",
      "IGShortUSDAA     1067 non-null float64\n",
      "IGShortUSDA      1067 non-null float64\n",
      "IGShortUSDBBB    1067 non-null float64\n",
      "IGShortGBPAAA    733 non-null float64\n",
      "IGShortGBPAA     733 non-null float64\n",
      "IGShortGBPA      733 non-null float64\n",
      "IGShortGBPBBB    733 non-null float64\n",
      "IGShortEURAAA    1067 non-null float64\n",
      "IGShortEURAA     1067 non-null float64\n",
      "IGShortEURA      1067 non-null float64\n",
      "IGShortEURBBB    1067 non-null float64\n",
      "HYWDBB           1067 non-null float64\n",
      "HYWDB            1067 non-null float64\n",
      "HYWDCCC_C        1067 non-null float64\n",
      "HYUSDBB          1067 non-null float64\n",
      "HYUSDB           1067 non-null float64\n",
      "HYUSDCCC_C       1067 non-null float64\n",
      "HYGBPBB          1067 non-null float64\n",
      "HYGBPB           1067 non-null float64\n",
      "HYGBPCCC_C       1067 non-null float64\n",
      "HYEURBB          1067 non-null float64\n",
      "HYEURB           1067 non-null float64\n",
      "HYEURCCC_C       1067 non-null float64\n",
      "dtypes: float64(40)\n",
      "memory usage: 341.8 KB\n"
     ]
    }
   ],
   "source": [
    "endDt = pd.to_datetime('20200612', format='%Y%m%d')\n",
    "stDt = pd.to_datetime('20000101', format='%Y%m%d')\n",
    "\n",
    "# Read in Data\n",
    "df_excess_ret = pd.read_csv(r'creditData_excess_ret.txt', sep = ' ')\n",
    "df_excess_ret.columns = df_excess_ret.columns.str.replace('\\t' , '')\n",
    "df_excess_ret['dates'] = pd.to_datetime(df_excess_ret['dates'])\n",
    "df_excess_ret = df_excess_ret.loc[(df_excess_ret['dates'] > stDt) & (df_excess_ret['dates']<= endDt)]\n",
    "df_excess_ret.set_index('dates', inplace=True)\n",
    "df_excess_ret = df_excess_ret.astype('float64')\n",
    "df_excess_ret.info()\n",
    "\n",
    "df_full_OAS = pd.read_csv(r'creditData_full_OAS.txt', sep = ' ', skiprows=range(1))\n",
    "df_full_OAS.columns = df_full_OAS.columns.str.replace(\"\\t\",\"\")\n",
    "df_full_OAS['dates'] = pd.to_datetime(df_full_OAS['dates'])\n",
    "df_full_OAS = df_full_OAS.loc[(df_full_OAS['dates'] > stDt) & (df_full_OAS['dates']<= endDt)]\n",
    "df_full_OAS.set_index('dates', inplace=True)\n",
    "df_full_OAS = df_full_OAS.astype('float64')\n",
    "df_full_OAS.info()\n",
    "\n",
    "df_OAS = pd.read_csv(r'creditData_OAS.txt', sep = '\\s+', skiprows=range(1))\n",
    "df_OAS.columns = df_OAS.columns.str.replace(\"\\t\",\"\")\n",
    "df_OAS['dates'] = pd.to_datetime(df_OAS['dates'])\n",
    "df_OAS = df_OAS.loc[(df_OAS['dates'] > stDt) & (df_OAS['dates']<= endDt)]\n",
    "df_OAS.set_index('dates', inplace=True)\n",
    "df_OAS = df_OAS.astype('float64')\n",
    "df_OAS.info()\n",
    "\n",
    "df_full_MV = pd.read_csv(r'creditData_full_MV.txt', sep = ' ', skiprows=range(1))\n",
    "df_full_MV.columns = df_full_MV.columns.str.replace(\"\\t\",\"\")\n",
    "df_full_MV['dates'] = pd.to_datetime(df_full_MV['dates'])\n",
    "df_full_MV = df_full_MV.loc[(df_full_MV['dates'] > stDt) & (df_full_MV['dates']<= endDt)]\n",
    "df_full_MV.set_index('dates', inplace=True)\n",
    "df_full_MV = df_full_MV.astype('float64')\n",
    "df_full_MV.info()\n",
    "\n"
   ]
  },
  {
   "cell_type": "markdown",
   "metadata": {},
   "source": [
    "Looking at the option adjusted spread on Global Investment Grade and Global High Yield bond indices in Figures 1 and 2 respectively, we can clearly see that these are not constant through time as market and default risks and investor sentiment evolve. "
   ]
  },
  {
   "cell_type": "code",
   "execution_count": 12,
   "metadata": {},
   "outputs": [
    {
     "data": {
      "text/plain": [
       "<matplotlib.lines.Line2D at 0x2a036d9c860>"
      ]
     },
     "execution_count": 12,
     "metadata": {},
     "output_type": "execute_result"
    }
   ],
   "source": [
    "plt.plot(df_OAS['IGWDAll'])\n",
    "plt.title('Investment Grade - Option Adjusted Spread')\n",
    "plt.grid()\n",
    "plt.ylabel('Basis Points (0.01%)')\n",
    "plt.ylim([0, 500])\n",
    "plt.axhline(np.mean(df_OAS['IGWDAll']),linestyle=\"dashed\",linewidth= 1.5)\n"
   ]
  },
  {
   "cell_type": "code",
   "execution_count": 13,
   "metadata": {},
   "outputs": [
    {
     "data": {
      "text/plain": [
       "<matplotlib.lines.Line2D at 0x2a036dbca58>"
      ]
     },
     "execution_count": 13,
     "metadata": {},
     "output_type": "execute_result"
    }
   ],
   "source": [
    "plt.plot(df_OAS['HYWDAll'])\n",
    "plt.title('Global High Yield - Option Adjusted Spread')\n",
    "plt.grid()\n",
    "plt.ylabel('Basis Points (0.01%)')\n",
    "plt.ylim([0, 2000])\n",
    "plt.axhline(np.mean(df_OAS['HYWDAll']),linestyle=\"dashed\",linewidth= 1.5)\n"
   ]
  },
  {
   "cell_type": "markdown",
   "metadata": {},
   "source": [
    "**Adjusting the OAS for Differences in Composition Over Time**"
   ]
  },
  {
   "cell_type": "code",
   "execution_count": 9,
   "metadata": {},
   "outputs": [],
   "source": [
    "colNames = [col for col in df_full_MV.columns if 'IGWD' in col]\n",
    "WDIGIndicesMV = df_full_MV[colNames]\n",
    "WDIGIndicesCurrentComposition=WDIGIndicesMV.iloc[-1,:].divide(WDIGIndicesMV.iloc[-1,:].sum(),axis=0)\n",
    "WDIGIndicesComposition = WDIGIndicesMV.divide(WDIGIndicesMV.sum(axis=1),axis=0)\n",
    "WDIGIndicesOAS = df_full_OAS[colNames]\n",
    "WDIGCompositionAdjustedOAS = pd.DataFrame(np.sum(WDIGIndicesOAS*WDIGIndicesCurrentComposition,1), columns = ['IGWDAll'])\n",
    "\n",
    "colNames = [col for col in df_full_MV.columns if 'IGUSD' in col]\n",
    "USDIGIndicesMV = df_full_MV[colNames]\n",
    "USDIGIndicesCurrentComposition=USDIGIndicesMV.iloc[-1,:].divide(USDIGIndicesMV.iloc[-1,:].sum(),axis=0)\n",
    "USDIGIndicesComposition = USDIGIndicesMV.divide(USDIGIndicesMV.sum(axis=1),axis=0)\n",
    "USDIGIndicesOAS = df_full_OAS[colNames]\n",
    "USDIGCompositionAdjustedOAS = pd.DataFrame(np.sum(USDIGIndicesOAS*USDIGIndicesCurrentComposition,1), columns = ['IGUSDAll'])\n",
    "\n",
    "colNames = [col for col in df_full_MV.columns if 'IGEUR' in col]\n",
    "EURIGIndicesMV = df_full_MV[colNames]\n",
    "EURIGIndicesCurrentComposition=EURIGIndicesMV.iloc[-1,:].divide(EURIGIndicesMV.iloc[-1,:].sum(),axis=0)\n",
    "EURIGIndicesComposition = EURIGIndicesMV.divide(EURIGIndicesMV.sum(axis=1),axis=0)\n",
    "EURIGIndicesOAS = df_full_OAS[colNames]\n",
    "EURIGCompositionAdjustedOAS = pd.DataFrame(np.sum(EURIGIndicesOAS*EURIGIndicesCurrentComposition,1), columns = ['IGEURAll'])\n",
    "\n",
    "colNames = [col for col in df_full_MV.columns if 'IGGBP' in col]\n",
    "GBPIGIndicesMV = df_full_MV[colNames]\n",
    "GBPIGIndicesCurrentComposition=GBPIGIndicesMV.iloc[-1,:].divide(GBPIGIndicesMV.iloc[-1,:].sum(),axis=0)\n",
    "GBPIGIndicesComposition = GBPIGIndicesMV.divide(GBPIGIndicesMV.sum(axis=1),axis=0)\n",
    "GBPIGIndicesOAS = df_full_OAS[colNames]\n",
    "GBPIGCompositionAdjustedOAS = pd.DataFrame(np.sum(GBPIGIndicesOAS*GBPIGIndicesCurrentComposition,1), columns = ['IGGBPAll'])\n",
    "\n",
    "colNames = [col for col in df_full_MV.columns if 'IGShortUSD' in col]\n",
    "USDIGShortIndicesMV = df_full_MV[colNames]\n",
    "USDIGShortIndicesCurrentComposition=USDIGShortIndicesMV.iloc[-1,:].divide(USDIGShortIndicesMV.iloc[-1,:].sum(),axis=0)\n",
    "USDIGShortIndicesComposition = USDIGShortIndicesMV.divide(USDIGShortIndicesMV.sum(axis=1),axis=0)\n",
    "USDIGShortIndicesOAS = df_full_OAS[colNames]\n",
    "USDIGShortCompositionAdjustedOAS = pd.DataFrame(np.sum(USDIGShortIndicesOAS*USDIGShortIndicesCurrentComposition,1), columns = ['IGShortUSD'])\n",
    "\n",
    "colNames = [col for col in df_full_MV.columns if 'IGShortEUR' in col]\n",
    "EURIGShortIndicesMV = df_full_MV[colNames]\n",
    "EURIGShortIndicesCurrentComposition=EURIGShortIndicesMV.iloc[-1,:].divide(EURIGShortIndicesMV.iloc[-1,:].sum(),axis=0)\n",
    "EURIGShortIndicesComposition = EURIGShortIndicesMV.divide(EURIGShortIndicesMV.sum(axis=1),axis=0)\n",
    "EURIGShortIndicesOAS = df_full_OAS[colNames]\n",
    "EURIGShortCompositionAdjustedOAS = pd.DataFrame(np.sum(EURIGShortIndicesOAS*EURIGShortIndicesCurrentComposition,1), columns = ['IGShortEUR'])\n",
    "\n",
    "colNames = [col for col in df_full_MV.columns if 'IGShortGBP' in col]\n",
    "GBPIGShortIndicesMV = df_full_MV[colNames]\n",
    "GBPIGShortIndicesCurrentComposition = GBPIGShortIndicesMV.iloc[-1,:].divide(GBPIGShortIndicesMV.iloc[-1,:].sum(),axis=0)\n",
    "GBPIGShortIndicesComposition = GBPIGShortIndicesMV.divide(GBPIGShortIndicesMV.sum(axis=1),axis=0)\n",
    "GBPIGShortIndicesOAS = df_full_OAS[colNames]\n",
    "GBPIGShortCompositionAdjustedOAS = pd.DataFrame(np.sum(GBPIGShortIndicesOAS*GBPIGShortIndicesCurrentComposition,1), columns = ['IGShortGBP'])\n",
    "\n",
    "colNames = [col for col in df_full_MV.columns if 'HYWD' in col]\n",
    "WDHYIndicesMV = df_full_MV[colNames]\n",
    "WDHYIndicesCurrentComposition=WDHYIndicesMV.iloc[-1,:].divide(WDHYIndicesMV.iloc[-1,:].sum(),axis=0)\n",
    "WDHYIndicesComposition = WDHYIndicesMV.divide(WDHYIndicesMV.sum(axis=1),axis=0)\n",
    "WDHYIndicesOAS = df_full_OAS[colNames]\n",
    "WDHYCompositionAdjustedOAS = pd.DataFrame(np.sum(WDHYIndicesOAS*WDHYIndicesCurrentComposition,1), columns = ['HYWDAll'])\n",
    "\n",
    "colNames = [col for col in df_full_MV.columns if 'HYUSD' in col]\n",
    "USDHYIndicesMV = df_full_MV[colNames]\n",
    "USDHYIndicesCurrentComposition=USDHYIndicesMV.iloc[-1,:].divide(USDHYIndicesMV.iloc[-1,:].sum(),axis=0)\n",
    "USDHYIndicesComposition = USDHYIndicesMV.divide(WDHYIndicesMV.sum(axis=1),axis=0)\n",
    "USDHYIndicesOAS = df_full_OAS[colNames]\n",
    "USDHYCompositionAdjustedOAS = pd.DataFrame(np.sum(USDHYIndicesOAS*USDHYIndicesCurrentComposition,1), columns = ['HYUSDAll'])\n",
    "\n",
    "colNames = [col for col in df_full_MV.columns if 'HYEUR' in col]\n",
    "EURHYIndicesMV = df_full_MV[colNames]\n",
    "EURHYIndicesCurrentComposition=EURHYIndicesMV.iloc[-1,:].divide(EURHYIndicesMV.iloc[-1,:].sum(),axis=0)\n",
    "EURHYIndicesComposition = EURHYIndicesMV.divide(EURHYIndicesMV.sum(axis=1),axis=0)\n",
    "EURHYIndicesOAS = df_full_OAS[colNames]\n",
    "EURHYCompositionAdjustedOAS = pd.DataFrame(np.sum(EURHYIndicesOAS*EURHYIndicesCurrentComposition,1), columns = ['HYEURAll'])\n",
    "\n"
   ]
  },
  {
   "cell_type": "code",
   "execution_count": 10,
   "metadata": {},
   "outputs": [],
   "source": [
    "OASCompAdjOAS = pd.concat([WDIGCompositionAdjustedOAS, USDIGCompositionAdjustedOAS,\n",
    "                 GBPIGCompositionAdjustedOAS, EURIGCompositionAdjustedOAS, \n",
    "                 USDIGShortCompositionAdjustedOAS, GBPIGShortCompositionAdjustedOAS, EURIGShortCompositionAdjustedOAS,\n",
    "                 WDHYCompositionAdjustedOAS, USDHYCompositionAdjustedOAS, EURHYCompositionAdjustedOAS], axis = 1, sort = False)\n"
   ]
  },
  {
   "cell_type": "code",
   "execution_count": null,
   "metadata": {},
   "outputs": [],
   "source": []
  }
 ],
 "metadata": {
  "kernelspec": {
   "display_name": "Python 3",
   "language": "python",
   "name": "python3"
  },
  "language_info": {
   "codemirror_mode": {
    "name": "ipython",
    "version": 3
   },
   "file_extension": ".py",
   "mimetype": "text/x-python",
   "name": "python",
   "nbconvert_exporter": "python",
   "pygments_lexer": "ipython3",
   "version": "3.7.3"
  }
 },
 "nbformat": 4,
 "nbformat_minor": 2
}
